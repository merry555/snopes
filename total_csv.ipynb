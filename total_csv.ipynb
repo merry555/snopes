{
 "cells": [
  {
   "cell_type": "code",
   "execution_count": 1,
   "metadata": {},
   "outputs": [],
   "source": [
    "import pandas as pd\n",
    "import sys\n",
    "import numpy as np"
   ]
  },
  {
   "cell_type": "code",
   "execution_count": 2,
   "metadata": {},
   "outputs": [],
   "source": [
    "# read csv\n",
    "body = []\n",
    "source = []\n",
    "\n",
    "for i in range(1,50):\n",
    "    body.append(pd.read_csv('./csv/snoup_news_body_%s.csv'%(i), encoding= 'unicode_escape'))\n",
    "    source.append(pd.read_csv('./csv/snoup_news_source_%s.csv'%(i), encoding= 'unicode_escape'))"
   ]
  },
  {
   "cell_type": "code",
   "execution_count": 3,
   "metadata": {},
   "outputs": [],
   "source": [
    "df = []\n",
    "for i in range(0,49):\n",
    "    df.append(pd.merge(body[i], source[i]))"
   ]
  },
  {
   "cell_type": "code",
   "execution_count": 4,
   "metadata": {},
   "outputs": [
    {
     "data": {
      "text/html": [
       "<div>\n",
       "<style scoped>\n",
       "    .dataframe tbody tr th:only-of-type {\n",
       "        vertical-align: middle;\n",
       "    }\n",
       "\n",
       "    .dataframe tbody tr th {\n",
       "        vertical-align: top;\n",
       "    }\n",
       "\n",
       "    .dataframe thead th {\n",
       "        text-align: right;\n",
       "    }\n",
       "</style>\n",
       "<table border=\"1\" class=\"dataframe\">\n",
       "  <thead>\n",
       "    <tr style=\"text-align: right;\">\n",
       "      <th></th>\n",
       "      <th>Unnamed: 0</th>\n",
       "      <th>body</th>\n",
       "      <th>source</th>\n",
       "      <th>tag</th>\n",
       "    </tr>\n",
       "  </thead>\n",
       "  <tbody>\n",
       "    <tr>\n",
       "      <th>0</th>\n",
       "      <td>0</td>\n",
       "      <td>On May 9, 2020, Yahoo! News reported that it h...</td>\n",
       "      <td>Isikoff, Michael.âExclusive: Obama Says in P...</td>\n",
       "      <td>COVID-19</td>\n",
       "    </tr>\n",
       "    <tr>\n",
       "      <th>1</th>\n",
       "      <td>1</td>\n",
       "      <td>In May 2020, social media users began sharing ...</td>\n",
       "      <td>Deere, Michael.âSeveral West Plains, Mo. Res...</td>\n",
       "      <td>COVID-19</td>\n",
       "    </tr>\n",
       "    <tr>\n",
       "      <th>2</th>\n",
       "      <td>2</td>\n",
       "      <td>In the winter of 1968, the H3N2 virus, also re...</td>\n",
       "      <td>Jester, Barbara; Uyeki, Timothy; Jernigan, Dan...</td>\n",
       "      <td>COVID-19</td>\n",
       "    </tr>\n",
       "    <tr>\n",
       "      <th>3</th>\n",
       "      <td>3</td>\n",
       "      <td>One of the many issues state governments had t...</td>\n",
       "      <td>Transport for New South Wales.âTowards Zero....</td>\n",
       "      <td>COVID-19</td>\n",
       "    </tr>\n",
       "    <tr>\n",
       "      <th>4</th>\n",
       "      <td>4</td>\n",
       "      <td>In early 2020, a fake letter claiming to be fr...</td>\n",
       "      <td>Lauten-Scrivner, Abbie.âMerced County Scam A...</td>\n",
       "      <td>COVID-19</td>\n",
       "    </tr>\n",
       "    <tr>\n",
       "      <th>5</th>\n",
       "      <td>5</td>\n",
       "      <td>In April 2020, as major stores such as Costco ...</td>\n",
       "      <td>Walansky, Aly.âPeople Want to Boycott Costco...</td>\n",
       "      <td>COVID-19</td>\n",
       "    </tr>\n",
       "    <tr>\n",
       "      <th>6</th>\n",
       "      <td>6</td>\n",
       "      <td>On May 1, 2020, as U.S. federal leaders negoti...</td>\n",
       "      <td>Scarry, Eddie. âBobby Rushâs Coronavirus T...</td>\n",
       "      <td>COVID-19</td>\n",
       "    </tr>\n",
       "    <tr>\n",
       "      <th>7</th>\n",
       "      <td>7</td>\n",
       "      <td>As Americans in various U.S. cities began demo...</td>\n",
       "      <td>Stohr, Greg.âSupreme Court Wonât Lift Penn...</td>\n",
       "      <td>COVID-19</td>\n",
       "    </tr>\n",
       "    <tr>\n",
       "      <th>8</th>\n",
       "      <td>8</td>\n",
       "      <td>On May 1, 2020, U.S. Rep. Bobby Rush of Illino...</td>\n",
       "      <td>GovTrack.âH.R. 6666: COVID-19 Testing, Reach...</td>\n",
       "      <td>COVID-19</td>\n",
       "    </tr>\n",
       "    <tr>\n",
       "      <th>9</th>\n",
       "      <td>9</td>\n",
       "      <td>In early May 2020, social media users shared a...</td>\n",
       "      <td>Contorno, Steve.âIn Health Care Fight, Trump...</td>\n",
       "      <td>NaN</td>\n",
       "    </tr>\n",
       "    <tr>\n",
       "      <th>10</th>\n",
       "      <td>10</td>\n",
       "      <td>On May 4, 2020 â as federal leaders debated ...</td>\n",
       "      <td>Rosenberg, Mattew and Rogers, Katie. âFor Ch...</td>\n",
       "      <td>COVID-19</td>\n",
       "    </tr>\n",
       "    <tr>\n",
       "      <th>11</th>\n",
       "      <td>11</td>\n",
       "      <td>The social distancing regulations and enforced...</td>\n",
       "      <td>KTLA-TV.âDefying Social Distancing Rules, De...</td>\n",
       "      <td>COVID-19</td>\n",
       "    </tr>\n",
       "  </tbody>\n",
       "</table>\n",
       "</div>"
      ],
      "text/plain": [
       "    Unnamed: 0                                               body  \\\n",
       "0            0  On May 9, 2020, Yahoo! News reported that it h...   \n",
       "1            1  In May 2020, social media users began sharing ...   \n",
       "2            2  In the winter of 1968, the H3N2 virus, also re...   \n",
       "3            3  One of the many issues state governments had t...   \n",
       "4            4  In early 2020, a fake letter claiming to be fr...   \n",
       "5            5  In April 2020, as major stores such as Costco ...   \n",
       "6            6  On May 1, 2020, as U.S. federal leaders negoti...   \n",
       "7            7  As Americans in various U.S. cities began demo...   \n",
       "8            8  On May 1, 2020, U.S. Rep. Bobby Rush of Illino...   \n",
       "9            9  In early May 2020, social media users shared a...   \n",
       "10          10  On May 4, 2020 â as federal leaders debated ...   \n",
       "11          11  The social distancing regulations and enforced...   \n",
       "\n",
       "                                               source       tag  \n",
       "0   Isikoff, Michael.âExclusive: Obama Says in P...  COVID-19  \n",
       "1   Deere, Michael.âSeveral West Plains, Mo. Res...  COVID-19  \n",
       "2   Jester, Barbara; Uyeki, Timothy; Jernigan, Dan...  COVID-19  \n",
       "3   Transport for New South Wales.âTowards Zero....  COVID-19  \n",
       "4   Lauten-Scrivner, Abbie.âMerced County Scam A...  COVID-19  \n",
       "5   Walansky, Aly.âPeople Want to Boycott Costco...  COVID-19  \n",
       "6   Scarry, Eddie. âBobby Rushâs Coronavirus T...  COVID-19  \n",
       "7   Stohr, Greg.âSupreme Court Wonât Lift Penn...  COVID-19  \n",
       "8   GovTrack.âH.R. 6666: COVID-19 Testing, Reach...  COVID-19  \n",
       "9   Contorno, Steve.âIn Health Care Fight, Trump...       NaN  \n",
       "10  Rosenberg, Mattew and Rogers, Katie. âFor Ch...  COVID-19  \n",
       "11  KTLA-TV.âDefying Social Distancing Rules, De...  COVID-19  "
      ]
     },
     "execution_count": 4,
     "metadata": {},
     "output_type": "execute_result"
    }
   ],
   "source": [
    "df[1]"
   ]
  },
  {
   "cell_type": "code",
   "execution_count": 5,
   "metadata": {},
   "outputs": [],
   "source": [
    "ddf = pd.concat([df[i] for i in range(len(df))], ignore_index=True)"
   ]
  },
  {
   "cell_type": "code",
   "execution_count": 6,
   "metadata": {},
   "outputs": [
    {
     "data": {
      "text/plain": [
       "Index(['Unnamed: 0', 'body', 'source', 'tag'], dtype='object')"
      ]
     },
     "execution_count": 6,
     "metadata": {},
     "output_type": "execute_result"
    }
   ],
   "source": [
    "ddf.columns"
   ]
  },
  {
   "cell_type": "code",
   "execution_count": 7,
   "metadata": {},
   "outputs": [
    {
     "data": {
      "text/html": [
       "<div>\n",
       "<style scoped>\n",
       "    .dataframe tbody tr th:only-of-type {\n",
       "        vertical-align: middle;\n",
       "    }\n",
       "\n",
       "    .dataframe tbody tr th {\n",
       "        vertical-align: top;\n",
       "    }\n",
       "\n",
       "    .dataframe thead th {\n",
       "        text-align: right;\n",
       "    }\n",
       "</style>\n",
       "<table border=\"1\" class=\"dataframe\">\n",
       "  <thead>\n",
       "    <tr style=\"text-align: right;\">\n",
       "      <th></th>\n",
       "      <th>body</th>\n",
       "      <th>source</th>\n",
       "      <th>tag</th>\n",
       "    </tr>\n",
       "  </thead>\n",
       "  <tbody>\n",
       "    <tr>\n",
       "      <th>0</th>\n",
       "      <td>One of the hallmarks of U.S. President Donald ...</td>\n",
       "      <td>Chappell, Bill and Vanessa Romo.âCoronavirus...</td>\n",
       "      <td>COVID-19</td>\n",
       "    </tr>\n",
       "    <tr>\n",
       "      <th>1</th>\n",
       "      <td>On March 22, 2020, a young girl named Emily Jo...</td>\n",
       "      <td>McDonnell, Seamus; Oldfield, Paige.âThis is ...</td>\n",
       "      <td>NaN</td>\n",
       "    </tr>\n",
       "    <tr>\n",
       "      <th>2</th>\n",
       "      <td>On May 9, 2020, the BIZ News website published...</td>\n",
       "      <td>NaN</td>\n",
       "      <td>NaN</td>\n",
       "    </tr>\n",
       "    <tr>\n",
       "      <th>3</th>\n",
       "      <td>In the spring of 2020, as debate raged over th...</td>\n",
       "      <td>NaN</td>\n",
       "      <td>NaN</td>\n",
       "    </tr>\n",
       "    <tr>\n",
       "      <th>4</th>\n",
       "      <td>Since the early weeks of the U.S. COVID-19 cor...</td>\n",
       "      <td>Centers for Disease Control and Prevention.â...</td>\n",
       "      <td>COVID-19</td>\n",
       "    </tr>\n",
       "    <tr>\n",
       "      <th>...</th>\n",
       "      <td>...</td>\n",
       "      <td>...</td>\n",
       "      <td>...</td>\n",
       "    </tr>\n",
       "    <tr>\n",
       "      <th>583</th>\n",
       "      <td>On Dec. 12, 2019, the website Daily World Upda...</td>\n",
       "      <td>Evon, Dan.âDoes a Failed Impeachment Nullify...</td>\n",
       "      <td>NaN</td>\n",
       "    </tr>\n",
       "    <tr>\n",
       "      <th>584</th>\n",
       "      <td>On Dec. 12, 2019, the Twitter account American...</td>\n",
       "      <td>Griffith, Keith.âShocking Moment School Bus ...</td>\n",
       "      <td>NaN</td>\n",
       "    </tr>\n",
       "    <tr>\n",
       "      <th>585</th>\n",
       "      <td>In December 2019, readers asked us about repor...</td>\n",
       "      <td>Diver, Tony. âFootwear Mystery as Diane Abbo...</td>\n",
       "      <td>NaN</td>\n",
       "    </tr>\n",
       "    <tr>\n",
       "      <th>586</th>\n",
       "      <td>In December 2019, we came across a picture tha...</td>\n",
       "      <td>NaN</td>\n",
       "      <td>NaN</td>\n",
       "    </tr>\n",
       "    <tr>\n",
       "      <th>587</th>\n",
       "      <td>In December 2019, a rumor started circulating ...</td>\n",
       "      <td>NaN</td>\n",
       "      <td>NaN</td>\n",
       "    </tr>\n",
       "  </tbody>\n",
       "</table>\n",
       "<p>588 rows × 3 columns</p>\n",
       "</div>"
      ],
      "text/plain": [
       "                                                  body  \\\n",
       "0    One of the hallmarks of U.S. President Donald ...   \n",
       "1    On March 22, 2020, a young girl named Emily Jo...   \n",
       "2    On May 9, 2020, the BIZ News website published...   \n",
       "3    In the spring of 2020, as debate raged over th...   \n",
       "4    Since the early weeks of the U.S. COVID-19 cor...   \n",
       "..                                                 ...   \n",
       "583  On Dec. 12, 2019, the website Daily World Upda...   \n",
       "584  On Dec. 12, 2019, the Twitter account American...   \n",
       "585  In December 2019, readers asked us about repor...   \n",
       "586  In December 2019, we came across a picture tha...   \n",
       "587  In December 2019, a rumor started circulating ...   \n",
       "\n",
       "                                                source       tag  \n",
       "0    Chappell, Bill and Vanessa Romo.âCoronavirus...  COVID-19  \n",
       "1    McDonnell, Seamus; Oldfield, Paige.âThis is ...       NaN  \n",
       "2                                                  NaN       NaN  \n",
       "3                                                  NaN       NaN  \n",
       "4    Centers for Disease Control and Prevention.â...  COVID-19  \n",
       "..                                                 ...       ...  \n",
       "583  Evon, Dan.âDoes a Failed Impeachment Nullify...       NaN  \n",
       "584  Griffith, Keith.âShocking Moment School Bus ...       NaN  \n",
       "585  Diver, Tony. âFootwear Mystery as Diane Abbo...       NaN  \n",
       "586                                                NaN       NaN  \n",
       "587                                                NaN       NaN  \n",
       "\n",
       "[588 rows x 3 columns]"
      ]
     },
     "execution_count": 7,
     "metadata": {},
     "output_type": "execute_result"
    }
   ],
   "source": [
    "ddf.drop(['Unnamed: 0'], axis='columns')"
   ]
  },
  {
   "cell_type": "code",
   "execution_count": 8,
   "metadata": {},
   "outputs": [],
   "source": [
    "ddf.to_csv('total.csv', mode='w')"
   ]
  },
  {
   "cell_type": "code",
   "execution_count": 9,
   "metadata": {},
   "outputs": [],
   "source": [
    "detail = pd.read_csv('total.csv', encoding= 'unicode_escape')\n",
    "summary = pd.read_csv('snoup_news.csv', encoding= 'unicode_escape')"
   ]
  },
  {
   "cell_type": "code",
   "execution_count": null,
   "metadata": {},
   "outputs": [],
   "source": [
    "summary.drop(['Unnamed: 0'], axis='columns', inplace=True)"
   ]
  },
  {
   "cell_type": "code",
   "execution_count": 19,
   "metadata": {},
   "outputs": [],
   "source": [
    "detail.drop(['Unnamed: 0.1'], axis='columns', inplace=True)"
   ]
  },
  {
   "cell_type": "code",
   "execution_count": 28,
   "metadata": {},
   "outputs": [
    {
     "data": {
      "text/plain": [
       "Index(['body', 'source', 'tag'], dtype='object')"
      ]
     },
     "execution_count": 28,
     "metadata": {},
     "output_type": "execute_result"
    }
   ],
   "source": [
    "detail.columns"
   ]
  },
  {
   "cell_type": "code",
   "execution_count": 29,
   "metadata": {},
   "outputs": [
    {
     "data": {
      "text/plain": [
       "Index(['title', 'date', 'summary', 'check', 'claim'], dtype='object')"
      ]
     },
     "execution_count": 29,
     "metadata": {},
     "output_type": "execute_result"
    }
   ],
   "source": [
    "summary.columns"
   ]
  },
  {
   "cell_type": "code",
   "execution_count": 33,
   "metadata": {},
   "outputs": [],
   "source": [
    "snopes = pd.merge(summary, detail,left_index=True,right_index=True,how='left')"
   ]
  },
  {
   "cell_type": "code",
   "execution_count": 34,
   "metadata": {},
   "outputs": [],
   "source": [
    "ddf.to_csv('snopes_data.csv', mode='w')"
   ]
  },
  {
   "cell_type": "code",
   "execution_count": null,
   "metadata": {},
   "outputs": [],
   "source": []
  }
 ],
 "metadata": {
  "kernelspec": {
   "display_name": "Python 3",
   "language": "python",
   "name": "python3"
  },
  "language_info": {
   "codemirror_mode": {
    "name": "ipython",
    "version": 3
   },
   "file_extension": ".py",
   "mimetype": "text/x-python",
   "name": "python",
   "nbconvert_exporter": "python",
   "pygments_lexer": "ipython3",
   "version": "3.6.5"
  }
 },
 "nbformat": 4,
 "nbformat_minor": 2
}
